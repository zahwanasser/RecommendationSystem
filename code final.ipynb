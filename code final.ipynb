{
 "cells": [
  {
   "cell_type": "code",
   "execution_count": 1,
   "metadata": {},
   "outputs": [],
   "source": [
    "# importing libraries\n",
    "import numpy as np\n",
    "import pandas as pd\n",
    "from sklearn.metrics.pairwise import linear_kernel\n",
    "from sklearn.feature_extraction.text import TfidfVectorizer"
   ]
  },
  {
   "cell_type": "code",
   "execution_count": 3,
   "metadata": {},
   "outputs": [],
   "source": [
    "# reading file\n",
    "#in the following line you have to write the file's directory on your computer\n",
    "book_description = pd.read_csv(r\"description.csv\", encoding = 'latin-1')"
   ]
  },
  {
   "cell_type": "code",
   "execution_count": 4,
   "metadata": {},
   "outputs": [
    {
     "data": {
      "text/html": [
       "<div>\n",
       "<style scoped>\n",
       "    .dataframe tbody tr th:only-of-type {\n",
       "        vertical-align: middle;\n",
       "    }\n",
       "\n",
       "    .dataframe tbody tr th {\n",
       "        vertical-align: top;\n",
       "    }\n",
       "\n",
       "    .dataframe thead th {\n",
       "        text-align: right;\n",
       "    }\n",
       "</style>\n",
       "<table border=\"1\" class=\"dataframe\">\n",
       "  <thead>\n",
       "    <tr style=\"text-align: right;\">\n",
       "      <th></th>\n",
       "      <th>book_id</th>\n",
       "      <th>Name</th>\n",
       "      <th>Description</th>\n",
       "    </tr>\n",
       "  </thead>\n",
       "  <tbody>\n",
       "    <tr>\n",
       "      <th>0</th>\n",
       "      <td>4833.0</td>\n",
       "      <td>The Glass Castle</td>\n",
       "      <td>A Tender, Moving Tale Of Unconditional Love In...</td>\n",
       "    </tr>\n",
       "    <tr>\n",
       "      <th>1</th>\n",
       "      <td>590.0</td>\n",
       "      <td>Night (The Night Trilogy, #1)</td>\n",
       "      <td>Born Into A Jewish Ghetto In Hungary, As A Chi...</td>\n",
       "    </tr>\n",
       "    <tr>\n",
       "      <th>2</th>\n",
       "      <td>4264.0</td>\n",
       "      <td>Angela'S Ashes (Frank Mccourt, #1)</td>\n",
       "      <td>Imbued On Every Page With Frank Mccourt'S Asto...</td>\n",
       "    </tr>\n",
       "    <tr>\n",
       "      <th>3</th>\n",
       "      <td>3361.0</td>\n",
       "      <td>Eat, Pray, Love</td>\n",
       "      <td>A Celebrated Writer'S Irresistible, Candid, An...</td>\n",
       "    </tr>\n",
       "    <tr>\n",
       "      <th>4</th>\n",
       "      <td>4535.0</td>\n",
       "      <td>Into Thin Air: A Personal Account Of The Mount...</td>\n",
       "      <td>A Bank Of Clouds Was Assembling On The Not-So-...</td>\n",
       "    </tr>\n",
       "  </tbody>\n",
       "</table>\n",
       "</div>"
      ],
      "text/plain": [
       "   book_id                                               Name  \\\n",
       "0   4833.0                                  The Glass Castle    \n",
       "1    590.0                     Night (The Night Trilogy, #1)    \n",
       "2   4264.0                Angela'S Ashes (Frank Mccourt, #1)    \n",
       "3   3361.0                                   Eat, Pray, Love    \n",
       "4   4535.0  Into Thin Air: A Personal Account Of The Mount...   \n",
       "\n",
       "                                         Description  \n",
       "0  A Tender, Moving Tale Of Unconditional Love In...  \n",
       "1  Born Into A Jewish Ghetto In Hungary, As A Chi...  \n",
       "2  Imbued On Every Page With Frank Mccourt'S Asto...  \n",
       "3  A Celebrated Writer'S Irresistible, Candid, An...  \n",
       "4  A Bank Of Clouds Was Assembling On The Not-So-...  "
      ]
     },
     "execution_count": 4,
     "metadata": {},
     "output_type": "execute_result"
    }
   ],
   "source": [
    "# checking if we have the right data\n",
    "book_description.head()"
   ]
  },
  {
   "cell_type": "code",
   "execution_count": 5,
   "metadata": {},
   "outputs": [],
   "source": [
    "# removing the stop words\n",
    "books_tfidf = TfidfVectorizer(stop_words='english')\n",
    "# filling the missing values with empty string\n",
    "book_description['Description'] = book_description['Description'].fillna('')\n",
    "# computing TF-IDF matrix required for calculating cosine similarity\n",
    "book_description_matrix = books_tfidf.fit_transform(book_description['Description'])"
   ]
  },
  {
   "cell_type": "code",
   "execution_count": 6,
   "metadata": {},
   "outputs": [
    {
     "data": {
      "text/plain": [
       "(143, 4186)"
      ]
     },
     "execution_count": 6,
     "metadata": {},
     "output_type": "execute_result"
    }
   ],
   "source": [
    "# Let's check the shape of computed matrix\n",
    "book_description_matrix.shape"
   ]
  },
  {
   "cell_type": "code",
   "execution_count": 7,
   "metadata": {},
   "outputs": [
    {
     "data": {
      "text/plain": [
       "(143, 4186)"
      ]
     },
     "execution_count": 7,
     "metadata": {},
     "output_type": "execute_result"
    }
   ],
   "source": [
    "# Let's check the shape of computed matrix\n",
    "book_description_matrix.shape"
   ]
  },
  {
   "cell_type": "code",
   "execution_count": 8,
   "metadata": {},
   "outputs": [],
   "source": [
    "# computing cosine similarity matrix using linear_kernal of sklearn\n",
    "cosine_similarity = linear_kernel(book_description_matrix, book_description_matrix)"
   ]
  },
  {
   "cell_type": "code",
   "execution_count": 9,
   "metadata": {
    "scrolled": true
   },
   "outputs": [
    {
     "name": "stdout",
     "output_type": "stream",
     "text": [
      "[[1.         0.03240804 0.021228   ... 0.005362   0.01071911 0.00532216]\n",
      " [0.03240804 1.         0.02661665 ... 0.         0.00510551 0.        ]\n",
      " [0.021228   0.02661665 1.         ... 0.01079403 0.         0.00563089]\n",
      " ...\n",
      " [0.005362   0.         0.01079403 ... 1.         0.         0.01875445]\n",
      " [0.01071911 0.00510551 0.         ... 0.         1.         0.05737646]\n",
      " [0.00532216 0.         0.00563089 ... 0.01875445 0.05737646 1.        ]]\n"
     ]
    }
   ],
   "source": [
    "print(cosine_similarity)"
   ]
  },
  {
   "cell_type": "code",
   "execution_count": 10,
   "metadata": {
    "scrolled": true
   },
   "outputs": [
    {
     "name": "stdout",
     "output_type": "stream",
     "text": [
      "  (0, 3755)\t0.13974290015697077\n",
      "  (0, 2497)\t0.16597222927200309\n",
      "  (0, 3720)\t0.1154766075072239\n",
      "  (0, 3922)\t0.1290048945978735\n",
      "  (0, 2268)\t0.08155340553903333\n",
      "  (0, 1438)\t0.19690781001870242\n",
      "  (0, 1055)\t0.12138615840709932\n",
      "  (0, 2959)\t0.13974290015697077\n",
      "  (0, 1510)\t0.1290048945978735\n",
      "  (0, 1622)\t0.1154766075072239\n",
      "  (0, 315)\t0.046145705549065295\n",
      "  (0, 1476)\t0.13974290015697077\n",
      "  (0, 1063)\t0.1290048945978735\n",
      "  (0, 584)\t0.13974290015697077\n",
      "  (0, 3647)\t0.11064815284800204\n",
      "  (0, 2211)\t0.12215375666198071\n",
      "  (0, 3758)\t0.1154766075072239\n",
      "  (0, 2075)\t0.27948580031394155\n",
      "  (0, 4044)\t0.38701468379362053\n",
      "  (0, 1709)\t0.06069307920354966\n",
      "  (0, 2710)\t0.15454412498584177\n",
      "  (0, 1884)\t0.06069307920354966\n",
      "  (0, 3631)\t0.06450244729893675\n",
      "  (0, 2581)\t0.06987145007848539\n",
      "  (0, 952)\t0.06987145007848539\n",
      "  :\t:\n",
      "  (142, 2262)\t0.1688824115538687\n",
      "  (142, 1462)\t0.1688824115538687\n",
      "  (142, 3942)\t0.12383683795518675\n",
      "  (142, 759)\t0.14485130153549752\n",
      "  (142, 4071)\t0.14485130153549752\n",
      "  (142, 1093)\t0.14485130153549752\n",
      "  (142, 54)\t0.15890859974694918\n",
      "  (142, 917)\t0.13950696479110938\n",
      "  (142, 1581)\t0.14485130153549752\n",
      "  (142, 1017)\t0.15117231028070632\n",
      "  (142, 1129)\t0.14485130153549752\n",
      "  (142, 2275)\t0.1688824115538687\n",
      "  (142, 1783)\t0.134877489728578\n",
      "  (142, 3727)\t0.1688824115538687\n",
      "  (142, 2214)\t0.1688824115538687\n",
      "  (142, 1537)\t0.1688824115538687\n",
      "  (142, 1589)\t0.1688824115538687\n",
      "  (142, 3991)\t0.1688824115538687\n",
      "  (142, 4087)\t0.15890859974694918\n",
      "  (142, 648)\t0.3658794195306407\n",
      "  (142, 151)\t0.3658794195306407\n",
      "  (142, 661)\t0.18293970976532034\n",
      "  (142, 2918)\t0.18293970976532034\n",
      "  (142, 3210)\t0.18293970976532034\n",
      "  (142, 1937)\t0.18293970976532034\n"
     ]
    }
   ],
   "source": [
    "#printing the tf-idf weights for each relevant word in the description of each book in the dataset\n",
    "print(book_description_matrix) "
   ]
  },
  {
   "cell_type": "code",
   "execution_count": 11,
   "metadata": {},
   "outputs": [
    {
     "name": "stdout",
     "output_type": "stream",
     "text": [
      "                                                  Name\n",
      "0                                    The Glass Castle \n",
      "1                       Night (The Night Trilogy, #1) \n",
      "2                  Angela'S Ashes (Frank Mccourt, #1) \n",
      "3                                     Eat, Pray, Love \n",
      "4    Into Thin Air: A Personal Account Of The Mount...\n",
      "5                                Tuesdays With Morrie \n",
      "6                               Running With Scissors \n",
      "7                                       Into The Wild \n",
      "8                      I Know Why The Caged Bird Sings\n",
      "9               A Child Called \"It\" (Dave Pelzer, #1) \n",
      "10   Chickens, Mules And Two Old Fools: Tuck Into A...\n",
      "11   Persepolis: The Story Of A Childhood (Persepol...\n",
      "12                     The Autobiography Of Malcolm X \n",
      "13   The Hiding Place: The Triumphant True Story Of...\n",
      "14                      All Creatures Great And Small \n",
      "15                                        Confessions \n",
      "16                             Me Talk Pretty One Day \n",
      "17   Marley And Me: Life And Love With The World'S ...\n",
      "18                                         John Adams \n",
      "19                           Man'S Search For Meaning \n",
      "20   Maus I: A Survivor'S Tale: My Father Bleeds Hi...\n",
      "21               Wild Swans: Three Daughters Of China \n",
      "22          A Long Way Gone: Memoirs Of A Boy Soldier \n",
      "23                                         Confessions\n",
      "24                                    The Last Lecture\n",
      "25             Martin Heidegger: Between Good And Evil\n",
      "26                                            Infidel \n",
      "27                                         Bossypants \n",
      "28   Wild: From Lost To Found On The Pacific Crest ...\n",
      "29                          The Diary Of A Young Girl \n",
      "..                                                 ...\n",
      "113  Plastics: America'S Packaging Dilemma (Island ...\n",
      "114                       Microbiologically Safe Foods\n",
      "115  Life Reimagined: Discovering Your New Life Pos...\n",
      "116  It'S St. Patrick'S Day (Turtleback School & Li...\n",
      "117              Strands Of Sorrow (Black Tide Rising)\n",
      "118                                Analytic Philosophy\n",
      "119    The Modern Coral Reef Aquarium, Volume 2 (V. 2)\n",
      "120                                                NaN\n",
      "121                                                NaN\n",
      "122            Hunting The Rockies: Home Of The Giants\n",
      "123  The Slums Of Aspen: Immigrants Vs. The Environ...\n",
      "124                                                NaN\n",
      "125  Mobile & Social Game Design: Monetization Meth...\n",
      "126              Ready, Freddy! #22: Science Fair Flop\n",
      "127                                                NaN\n",
      "128  On The Backroad To Heaven: Old Order Hutterite...\n",
      "129    Spiritual Astrology: A Path To Divine Awakening\n",
      "130  Passing On Bypass Using External Counterpulsat...\n",
      "131   Walking The Walk (W/Dvd): Getting Fit With Faith\n",
      "132                                                NaN\n",
      "133                                                NaN\n",
      "134  God Made All Of Me: A Book To Help Children Pr...\n",
      "135                                                NaN\n",
      "136                                                NaN\n",
      "137  Beyond Courage: The Untold Story Of Jewish Res...\n",
      "138     The Scientist As Rebel (New York Review Books)\n",
      "139                          The Life And Love Of Dogs\n",
      "140  Fish Tales: Stories & Recipes From Sustainable...\n",
      "141                  Health: The Basics (11Th Edition)\n",
      "142  Unprocessed: How To Achieve Vibrant Health And...\n",
      "\n",
      "[143 rows x 1 columns]\n"
     ]
    }
   ],
   "source": [
    "#seperating the book names column from the dataframe\n",
    "df=book_description\n",
    "df1=df.loc[:,\"Name\":\"Name\"]\n",
    "\n",
    "print(df1)"
   ]
  },
  {
   "cell_type": "code",
   "execution_count": 12,
   "metadata": {},
   "outputs": [],
   "source": [
    "# Function to get the most similar books\n",
    "def recommend(index, cosine_sim=cosine_similarity):\n",
    "    # Get the pairwsie similarity scores of all books compared to that book, \n",
    "    # sorting them and getting top 5\n",
    "    id=index\n",
    "    similarity_scores = list(enumerate(cosine_sim[id]))\n",
    "    similarity_scores = sorted(similarity_scores, key=lambda x: x[1], reverse=True)\n",
    "    similarity_scores = similarity_scores[1:6]\n",
    "\n",
    "    # Get the books index\n",
    "    books_index = [i[0] for i in similarity_scores]\n",
    "\n",
    "    # Return the top 5 most similar books using integer-location based indexing (iloc)\n",
    "    return book_description['Name'].iloc[books_index]"
   ]
  },
  {
   "cell_type": "code",
   "execution_count": 14,
   "metadata": {},
   "outputs": [
    {
     "name": "stdout",
     "output_type": "stream",
     "text": [
      "the diary of a young girl\n",
      "                          Name\n",
      "29  The Diary Of A Young Girl \n",
      "you may also like to read: \n"
     ]
    },
    {
     "data": {
      "text/plain": [
       "2                   Angela'S Ashes (Frank Mccourt, #1) \n",
       "13    The Hiding Place: The Triumphant True Story Of...\n",
       "8                       I Know Why The Caged Bird Sings\n",
       "21                Wild Swans: Three Daughters Of China \n",
       "0                                     The Glass Castle \n",
       "Name: Name, dtype: object"
      ]
     },
     "execution_count": 14,
     "metadata": {},
     "output_type": "execute_result"
    }
   ],
   "source": [
    "# getting the input of the book which i want to have similar recommendations to it and matching it to its index in the dataset\n",
    "#(the input has to belong to the dataset)\n",
    "df2=df1[df1['Name' ].str.match(input().title(), na=False)]\n",
    "print(df2)\n",
    "#getting the index of the book\n",
    "df3=df2.index.astype(int)\n",
    "x=0\n",
    "for i in range(142):\n",
    "    x=x+1\n",
    "# getting recommendation for book \n",
    "#to get the output you have to rerun this line \n",
    "print('you may also like to read: ')\n",
    "recommend(int(df3.values[0]))"
   ]
  },
  {
   "cell_type": "code",
   "execution_count": null,
   "metadata": {},
   "outputs": [],
   "source": []
  },
  {
   "cell_type": "code",
   "execution_count": null,
   "metadata": {},
   "outputs": [],
   "source": []
  },
  {
   "cell_type": "code",
   "execution_count": null,
   "metadata": {},
   "outputs": [],
   "source": []
  }
 ],
 "metadata": {
  "kernelspec": {
   "display_name": "Python 3",
   "language": "python",
   "name": "python3"
  },
  "language_info": {
   "codemirror_mode": {
    "name": "ipython",
    "version": 3
   },
   "file_extension": ".py",
   "mimetype": "text/x-python",
   "name": "python",
   "nbconvert_exporter": "python",
   "pygments_lexer": "ipython3",
   "version": "3.6.5"
  }
 },
 "nbformat": 4,
 "nbformat_minor": 2
}
